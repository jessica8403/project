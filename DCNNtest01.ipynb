{
 "cells": [
  {
   "cell_type": "code",
   "execution_count": 1,
   "metadata": {},
   "outputs": [],
   "source": [
    "import cv2\n",
    "import numpy as np   \n",
    "from keras.preprocessing.image import img_to_array\n",
    "from keras.models import load_model"
   ]
  },
  {
   "cell_type": "code",
   "execution_count": 4,
   "metadata": {},
   "outputs": [],
   "source": [
    "# Face detection XML load and trained model loading\n",
    "face_detection = cv2.CascadeClassifier(r'haarcascade\\haarcascade_frontalface_default.xml')\n",
    "emotion_classifier = load_model(r'DCNN_model.h5', compile=False)\n",
    "EMOTIONS = [\"hapiness\",\"sadness\"]\n"
   ]
  },
  {
   "cell_type": "code",
   "execution_count": 13,
   "metadata": {},
   "outputs": [
    {
     "name": "stdout",
     "output_type": "stream",
     "text": [
      "True\n"
     ]
    }
   ],
   "source": [
    "\n",
    "    camera = cv2.VideoCapture(0)\n",
    "    while True:\n",
    "    # Capture image from camera\n",
    "        ret, frame = camera.read()\n",
    "        cv2.imshow('Camera', frame)\n",
    "        key = cv2.waitKey(1)\n",
    "        if key == ord('C'):\n",
    "            break\n",
    "    # Convert color to gray scale\n",
    "    gray = cv2.cvtColor(frame, cv2.COLOR_BGR2GRAY)\n",
    "    # Face detection in frame\n",
    "    faces = face_detection.detectMultiScale(gray,\n",
    "                                            scaleFactor=1.1,\n",
    "                                            minNeighbors=5,\n",
    "                                            minSize=(30,30))\n",
    "    # Create empty image\n",
    "    canvas = np.zeros((250, 300, 3), dtype=\"uint8\")\n",
    "    # Perform emotion recognition only when face is detected\n",
    "    if len(faces) > 0:\n",
    "        # For the largest image\n",
    "        face = sorted(faces, reverse=True, key=lambda x: (x[2] - x[0]) * (x[3] - x[1]))[0]\n",
    "        (fX, fY, fW, fH) = face\n",
    "        # Resize the image to 48x48 for neural network\n",
    "        roi = gray[fY:fY + fH, fX:fX + fW]\n",
    "        roi = cv2.resize(roi, (48, 48))\n",
    "        roi = roi.astype(\"float\") / 255.0\n",
    "        roi = img_to_array(roi)\n",
    "        roi = np.expand_dims(roi, axis=0)\n",
    "        \n",
    "        # Emotion predict\n",
    "        preds = emotion_classifier.predict(roi)[0]\n",
    "        emotion_probability = np.max(preds)\n",
    "        global label\n",
    "        label = EMOTIONS[preds.argmax()]\n",
    "        \n",
    "        # Assign labeling\n",
    "        cv2.putText(frame, label, (fX, fY - 10), cv2.FONT_HERSHEY_SIMPLEX, 0.45, (0, 0, 255), 2)\n",
    "        cv2.rectangle(frame, (fX, fY), (fX + fW, fY + fH), (0, 0, 255), 2)\n",
    " \n",
    "        global emotion\n",
    "        # Label printing\n",
    "        for (i, (emotion, prob)) in enumerate(zip(EMOTIONS, preds)):\n",
    "            global text\n",
    "            text = \"{}: {:.2f}%\".format(emotion, prob * 100)    \n",
    "            w = int(prob * 300)\n",
    "            cv2.rectangle(canvas, (7, (i * 35) + 5), (w, (i * 35) + 35), (0, 0, 255), -1)\n",
    "            cv2.putText(canvas, text, (10, (i * 35) + 23), cv2.FONT_HERSHEY_SIMPLEX, 0.45, (255, 255, 255), 2)\n",
    "\n",
    "         # Open two windows\n",
    "        ## Display image (\"Emotion Recognition\")\n",
    "        ## Display probabilities of emotion\n",
    "            cv2.imshow('Emotion Recognition', frame)\n",
    "            cv2.imshow(\"Probabilities\", canvas)\n",
    "\n",
    "\n",
    "\n",
    "            # q to quit\n",
    "            if cv2.waitKey(1) & 0xFF == ord('q'):\n",
    "                break\n",
    "    \n",
    "        showPic = cv2.imwrite(\"photo.jpg\",frame)\n",
    "        print(showPic) \n",
    "        # Clear program and close windows\n",
    "        camera.release()\n",
    "        cv2.destroyAllWindows()"
   ]
  },
  {
   "cell_type": "code",
   "execution_count": 14,
   "metadata": {},
   "outputs": [
    {
     "name": "stdout",
     "output_type": "stream",
     "text": [
      "sadness\n"
     ]
    }
   ],
   "source": [
    "print(label)"
   ]
  },
  {
   "cell_type": "code",
   "execution_count": 18,
   "metadata": {},
   "outputs": [
    {
     "data": {
      "text/plain": [
       "'sadness'"
      ]
     },
     "execution_count": 18,
     "metadata": {},
     "output_type": "execute_result"
    }
   ],
   "source": [
    "label"
   ]
  },
  {
   "cell_type": "code",
   "execution_count": 15,
   "metadata": {},
   "outputs": [
    {
     "data": {
      "text/plain": [
       "str"
      ]
     },
     "execution_count": 15,
     "metadata": {},
     "output_type": "execute_result"
    }
   ],
   "source": [
    "type(label)"
   ]
  },
  {
   "cell_type": "code",
   "execution_count": 8,
   "metadata": {},
   "outputs": [
    {
     "name": "stdout",
     "output_type": "stream",
     "text": [
      "sadness: 0.00%\n"
     ]
    }
   ],
   "source": [
    "print(text)"
   ]
  }
 ],
 "metadata": {
  "interpreter": {
   "hash": "b3ba2566441a7c06988d0923437866b63cedc61552a5af99d1f4fb67d367b25f"
  },
  "kernelspec": {
   "display_name": "Python 3.9.7 ('base')",
   "language": "python",
   "name": "python3"
  },
  "language_info": {
   "codemirror_mode": {
    "name": "ipython",
    "version": 3
   },
   "file_extension": ".py",
   "mimetype": "text/x-python",
   "name": "python",
   "nbconvert_exporter": "python",
   "pygments_lexer": "ipython3",
   "version": "3.9.7"
  },
  "orig_nbformat": 4
 },
 "nbformat": 4,
 "nbformat_minor": 2
}
